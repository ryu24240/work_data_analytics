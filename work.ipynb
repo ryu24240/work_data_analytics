{
  "cells": [
    {
      "cell_type": "code",
      "execution_count": 7,
      "metadata": {
        "id": "swAhk6FU2n-1"
      },
      "outputs": [
        {
          "name": "stdout",
          "output_type": "stream",
          "text": [
            "{'TOYOTA', 'Microsoft', 'Electron', 'Rakuten', 'Google', 'Amazon', 'Meta', 'Netflix', 'SONY', 'Apple'}\n"
          ]
        }
      ],
      "source": [
        "company = {\n",
        "        'IT' : {\n",
        "            'Apple',\n",
        "            'Google',\n",
        "            'Microsoft',\n",
        "            'Netflix',\n",
        "            'Amazon',\n",
        "            'Meta',\n",
        "            'Rakuten',\n",
        "            'TOYOTA',\n",
        "            'SONY',\n",
        "            'Electron'\n",
        "        }\n",
        "    }\n",
        "company_genres = ['IT']\n",
        "\n",
        "print(company.get(company_genres[0], []))"
      ]
    },
    {
      "cell_type": "code",
      "execution_count": null,
      "metadata": {},
      "outputs": [],
      "source": []
    }
  ],
  "metadata": {
    "colab": {
      "provenance": []
    },
    "kernelspec": {
      "display_name": "Python 3",
      "name": "python3"
    },
    "language_info": {
      "codemirror_mode": {
        "name": "ipython",
        "version": 3
      },
      "file_extension": ".py",
      "mimetype": "text/x-python",
      "name": "python",
      "nbconvert_exporter": "python",
      "pygments_lexer": "ipython3",
      "version": "3.10.11"
    }
  },
  "nbformat": 4,
  "nbformat_minor": 0
}
