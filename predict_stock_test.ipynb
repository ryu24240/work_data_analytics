{
  "cells": [
    {
      "cell_type": "code",
      "execution_count": 1,
      "metadata": {
        "id": "swAhk6FU2n-1"
      },
      "outputs": [
        {
          "name": "stdout",
          "output_type": "stream",
          "text": [
            "Requirement already satisfied: yfinance in c:\\users\\kanno.ryuho\\appdata\\local\\programs\\python\\python310\\lib\\site-packages (0.2.36)\n",
            "Requirement already satisfied: pandas>=1.3.0 in c:\\users\\kanno.ryuho\\appdata\\local\\programs\\python\\python310\\lib\\site-packages (from yfinance) (2.2.0)\n",
            "Requirement already satisfied: appdirs>=1.4.4 in c:\\users\\kanno.ryuho\\appdata\\local\\programs\\python\\python310\\lib\\site-packages (from yfinance) (1.4.4)\n",
            "Requirement already satisfied: numpy>=1.16.5 in c:\\users\\kanno.ryuho\\appdata\\local\\programs\\python\\python310\\lib\\site-packages (from yfinance) (1.26.4)\n",
            "Requirement already satisfied: requests>=2.31 in c:\\users\\kanno.ryuho\\appdata\\local\\programs\\python\\python310\\lib\\site-packages (from yfinance) (2.31.0)\n",
            "Requirement already satisfied: lxml>=4.9.1 in c:\\users\\kanno.ryuho\\appdata\\local\\programs\\python\\python310\\lib\\site-packages (from yfinance) (5.1.0)\n",
            "Requirement already satisfied: beautifulsoup4>=4.11.1 in c:\\users\\kanno.ryuho\\appdata\\local\\programs\\python\\python310\\lib\\site-packages (from yfinance) (4.12.3)\n",
            "Requirement already satisfied: pytz>=2022.5 in c:\\users\\kanno.ryuho\\appdata\\local\\programs\\python\\python310\\lib\\site-packages (from yfinance) (2024.1)\n",
            "Requirement already satisfied: frozendict>=2.3.4 in c:\\users\\kanno.ryuho\\appdata\\local\\programs\\python\\python310\\lib\\site-packages (from yfinance) (2.4.0)\n",
            "Requirement already satisfied: multitasking>=0.0.7 in c:\\users\\kanno.ryuho\\appdata\\local\\programs\\python\\python310\\lib\\site-packages (from yfinance) (0.0.11)\n",
            "Requirement already satisfied: html5lib>=1.1 in c:\\users\\kanno.ryuho\\appdata\\local\\programs\\python\\python310\\lib\\site-packages (from yfinance) (1.1)\n",
            "Requirement already satisfied: peewee>=3.16.2 in c:\\users\\kanno.ryuho\\appdata\\local\\programs\\python\\python310\\lib\\site-packages (from yfinance) (3.17.1)\n",
            "Requirement already satisfied: soupsieve>1.2 in c:\\users\\kanno.ryuho\\appdata\\local\\programs\\python\\python310\\lib\\site-packages (from beautifulsoup4>=4.11.1->yfinance) (2.5)\n",
            "Requirement already satisfied: six>=1.9 in c:\\users\\kanno.ryuho\\appdata\\local\\programs\\python\\python310\\lib\\site-packages (from html5lib>=1.1->yfinance) (1.16.0)\n",
            "Requirement already satisfied: webencodings in c:\\users\\kanno.ryuho\\appdata\\local\\programs\\python\\python310\\lib\\site-packages (from html5lib>=1.1->yfinance) (0.5.1)\n",
            "Requirement already satisfied: tzdata>=2022.7 in c:\\users\\kanno.ryuho\\appdata\\local\\programs\\python\\python310\\lib\\site-packages (from pandas>=1.3.0->yfinance) (2023.4)\n",
            "Requirement already satisfied: python-dateutil>=2.8.2 in c:\\users\\kanno.ryuho\\appdata\\local\\programs\\python\\python310\\lib\\site-packages (from pandas>=1.3.0->yfinance) (2.8.2)\n",
            "Requirement already satisfied: certifi>=2017.4.17 in c:\\users\\kanno.ryuho\\appdata\\local\\programs\\python\\python310\\lib\\site-packages (from requests>=2.31->yfinance) (2024.2.2)\n",
            "Requirement already satisfied: idna<4,>=2.5 in c:\\users\\kanno.ryuho\\appdata\\local\\programs\\python\\python310\\lib\\site-packages (from requests>=2.31->yfinance) (3.6)\n",
            "Requirement already satisfied: urllib3<3,>=1.21.1 in c:\\users\\kanno.ryuho\\appdata\\local\\programs\\python\\python310\\lib\\site-packages (from requests>=2.31->yfinance) (2.2.0)\n",
            "Requirement already satisfied: charset-normalizer<4,>=2 in c:\\users\\kanno.ryuho\\appdata\\local\\programs\\python\\python310\\lib\\site-packages (from requests>=2.31->yfinance) (3.3.2)\n"
          ]
        },
        {
          "name": "stderr",
          "output_type": "stream",
          "text": [
            "\n",
            "[notice] A new release of pip is available: 23.0.1 -> 24.0\n",
            "[notice] To update, run: C:\\Users\\kanno.ryuho\\AppData\\Local\\Programs\\Python\\Python310\\python.exe -m pip install --upgrade pip\n"
          ]
        },
        {
          "name": "stdout",
          "output_type": "stream",
          "text": [
            "Requirement already satisfied: altair in c:\\users\\kanno.ryuho\\appdata\\local\\programs\\python\\python310\\lib\\site-packages (5.2.0)\n",
            "Requirement already satisfied: jsonschema>=3.0 in c:\\users\\kanno.ryuho\\appdata\\local\\programs\\python\\python310\\lib\\site-packages (from altair) (4.21.1)\n",
            "Requirement already satisfied: toolz in c:\\users\\kanno.ryuho\\appdata\\local\\programs\\python\\python310\\lib\\site-packages (from altair) (0.12.1)\n",
            "Requirement already satisfied: numpy in c:\\users\\kanno.ryuho\\appdata\\local\\programs\\python\\python310\\lib\\site-packages (from altair) (1.26.4)\n",
            "Requirement already satisfied: typing-extensions>=4.0.1 in c:\\users\\kanno.ryuho\\appdata\\local\\programs\\python\\python310\\lib\\site-packages (from altair) (4.9.0)\n",
            "Requirement already satisfied: jinja2 in c:\\users\\kanno.ryuho\\appdata\\local\\programs\\python\\python310\\lib\\site-packages (from altair) (3.1.3)\n",
            "Requirement already satisfied: packaging in c:\\users\\kanno.ryuho\\appdata\\local\\programs\\python\\python310\\lib\\site-packages (from altair) (23.2)\n",
            "Requirement already satisfied: pandas>=0.25 in c:\\users\\kanno.ryuho\\appdata\\local\\programs\\python\\python310\\lib\\site-packages (from altair) (2.2.0)\n",
            "Requirement already satisfied: attrs>=22.2.0 in c:\\users\\kanno.ryuho\\appdata\\local\\programs\\python\\python310\\lib\\site-packages (from jsonschema>=3.0->altair) (23.2.0)\n",
            "Requirement already satisfied: referencing>=0.28.4 in c:\\users\\kanno.ryuho\\appdata\\local\\programs\\python\\python310\\lib\\site-packages (from jsonschema>=3.0->altair) (0.33.0)\n",
            "Requirement already satisfied: rpds-py>=0.7.1 in c:\\users\\kanno.ryuho\\appdata\\local\\programs\\python\\python310\\lib\\site-packages (from jsonschema>=3.0->altair) (0.17.1)\n",
            "Requirement already satisfied: jsonschema-specifications>=2023.03.6 in c:\\users\\kanno.ryuho\\appdata\\local\\programs\\python\\python310\\lib\\site-packages (from jsonschema>=3.0->altair) (2023.12.1)\n",
            "Requirement already satisfied: tzdata>=2022.7 in c:\\users\\kanno.ryuho\\appdata\\local\\programs\\python\\python310\\lib\\site-packages (from pandas>=0.25->altair) (2023.4)\n",
            "Requirement already satisfied: python-dateutil>=2.8.2 in c:\\users\\kanno.ryuho\\appdata\\local\\programs\\python\\python310\\lib\\site-packages (from pandas>=0.25->altair) (2.8.2)\n",
            "Requirement already satisfied: pytz>=2020.1 in c:\\users\\kanno.ryuho\\appdata\\local\\programs\\python\\python310\\lib\\site-packages (from pandas>=0.25->altair) (2024.1)\n",
            "Requirement already satisfied: MarkupSafe>=2.0 in c:\\users\\kanno.ryuho\\appdata\\local\\programs\\python\\python310\\lib\\site-packages (from jinja2->altair) (2.1.5)\n",
            "Requirement already satisfied: six>=1.5 in c:\\users\\kanno.ryuho\\appdata\\local\\programs\\python\\python310\\lib\\site-packages (from python-dateutil>=2.8.2->pandas>=0.25->altair) (1.16.0)\n"
          ]
        },
        {
          "name": "stderr",
          "output_type": "stream",
          "text": [
            "\n",
            "[notice] A new release of pip is available: 23.0.1 -> 24.0\n",
            "[notice] To update, run: C:\\Users\\kanno.ryuho\\AppData\\Local\\Programs\\Python\\Python310\\python.exe -m pip install --upgrade pip\n"
          ]
        },
        {
          "name": "stdout",
          "output_type": "stream",
          "text": [
            "Requirement already satisfied: streamlit in c:\\users\\kanno.ryuho\\appdata\\local\\programs\\python\\python310\\lib\\site-packages (1.31.0)\n",
            "Requirement already satisfied: numpy<2,>=1.19.3 in c:\\users\\kanno.ryuho\\appdata\\local\\programs\\python\\python310\\lib\\site-packages (from streamlit) (1.26.4)\n",
            "Requirement already satisfied: blinker<2,>=1.0.0 in c:\\users\\kanno.ryuho\\appdata\\local\\programs\\python\\python310\\lib\\site-packages (from streamlit) (1.7.0)\n",
            "Requirement already satisfied: pyarrow>=7.0 in c:\\users\\kanno.ryuho\\appdata\\local\\programs\\python\\python310\\lib\\site-packages (from streamlit) (15.0.0)\n",
            "Requirement already satisfied: protobuf<5,>=3.20 in c:\\users\\kanno.ryuho\\appdata\\local\\programs\\python\\python310\\lib\\site-packages (from streamlit) (4.25.2)\n",
            "Requirement already satisfied: typing-extensions<5,>=4.3.0 in c:\\users\\kanno.ryuho\\appdata\\local\\programs\\python\\python310\\lib\\site-packages (from streamlit) (4.9.0)\n",
            "Requirement already satisfied: tzlocal<6,>=1.1 in c:\\users\\kanno.ryuho\\appdata\\local\\programs\\python\\python310\\lib\\site-packages (from streamlit) (5.2)\n",
            "Requirement already satisfied: gitpython!=3.1.19,<4,>=3.0.7 in c:\\users\\kanno.ryuho\\appdata\\local\\programs\\python\\python310\\lib\\site-packages (from streamlit) (3.1.41)\n",
            "Requirement already satisfied: validators<1,>=0.2 in c:\\users\\kanno.ryuho\\appdata\\local\\programs\\python\\python310\\lib\\site-packages (from streamlit) (0.22.0)\n",
            "Requirement already satisfied: tornado<7,>=6.0.3 in c:\\users\\kanno.ryuho\\appdata\\local\\programs\\python\\python310\\lib\\site-packages (from streamlit) (6.4)\n",
            "Requirement already satisfied: altair<6,>=4.0 in c:\\users\\kanno.ryuho\\appdata\\local\\programs\\python\\python310\\lib\\site-packages (from streamlit) (5.2.0)\n",
            "Requirement already satisfied: pandas<3,>=1.3.0 in c:\\users\\kanno.ryuho\\appdata\\local\\programs\\python\\python310\\lib\\site-packages (from streamlit) (2.2.0)\n",
            "Requirement already satisfied: watchdog>=2.1.5 in c:\\users\\kanno.ryuho\\appdata\\local\\programs\\python\\python310\\lib\\site-packages (from streamlit) (3.0.0)\n",
            "Requirement already satisfied: toml<2,>=0.10.1 in c:\\users\\kanno.ryuho\\appdata\\local\\programs\\python\\python310\\lib\\site-packages (from streamlit) (0.10.2)\n",
            "Requirement already satisfied: python-dateutil<3,>=2.7.3 in c:\\users\\kanno.ryuho\\appdata\\local\\programs\\python\\python310\\lib\\site-packages (from streamlit) (2.8.2)\n",
            "Requirement already satisfied: rich<14,>=10.14.0 in c:\\users\\kanno.ryuho\\appdata\\local\\programs\\python\\python310\\lib\\site-packages (from streamlit) (13.7.0)\n",
            "Requirement already satisfied: pillow<11,>=7.1.0 in c:\\users\\kanno.ryuho\\appdata\\local\\programs\\python\\python310\\lib\\site-packages (from streamlit) (9.3.0)\n",
            "Requirement already satisfied: importlib-metadata<8,>=1.4 in c:\\users\\kanno.ryuho\\appdata\\local\\programs\\python\\python310\\lib\\site-packages (from streamlit) (7.0.1)\n",
            "Requirement already satisfied: cachetools<6,>=4.0 in c:\\users\\kanno.ryuho\\appdata\\local\\programs\\python\\python310\\lib\\site-packages (from streamlit) (5.3.2)\n",
            "Requirement already satisfied: pydeck<1,>=0.8.0b4 in c:\\users\\kanno.ryuho\\appdata\\local\\programs\\python\\python310\\lib\\site-packages (from streamlit) (0.8.1b0)\n",
            "Requirement already satisfied: packaging<24,>=16.8 in c:\\users\\kanno.ryuho\\appdata\\local\\programs\\python\\python310\\lib\\site-packages (from streamlit) (23.2)\n",
            "Requirement already satisfied: click<9,>=7.0 in c:\\users\\kanno.ryuho\\appdata\\local\\programs\\python\\python310\\lib\\site-packages (from streamlit) (8.1.7)\n",
            "Requirement already satisfied: requests<3,>=2.27 in c:\\users\\kanno.ryuho\\appdata\\local\\programs\\python\\python310\\lib\\site-packages (from streamlit) (2.31.0)\n",
            "Requirement already satisfied: tenacity<9,>=8.1.0 in c:\\users\\kanno.ryuho\\appdata\\local\\programs\\python\\python310\\lib\\site-packages (from streamlit) (8.2.3)\n",
            "Requirement already satisfied: toolz in c:\\users\\kanno.ryuho\\appdata\\local\\programs\\python\\python310\\lib\\site-packages (from altair<6,>=4.0->streamlit) (0.12.1)\n",
            "Requirement already satisfied: jsonschema>=3.0 in c:\\users\\kanno.ryuho\\appdata\\local\\programs\\python\\python310\\lib\\site-packages (from altair<6,>=4.0->streamlit) (4.21.1)\n",
            "Requirement already satisfied: jinja2 in c:\\users\\kanno.ryuho\\appdata\\local\\programs\\python\\python310\\lib\\site-packages (from altair<6,>=4.0->streamlit) (3.1.3)\n",
            "Requirement already satisfied: colorama in c:\\users\\kanno.ryuho\\appdata\\local\\programs\\python\\python310\\lib\\site-packages (from click<9,>=7.0->streamlit) (0.4.6)\n",
            "Requirement already satisfied: gitdb<5,>=4.0.1 in c:\\users\\kanno.ryuho\\appdata\\local\\programs\\python\\python310\\lib\\site-packages (from gitpython!=3.1.19,<4,>=3.0.7->streamlit) (4.0.11)\n",
            "Requirement already satisfied: zipp>=0.5 in c:\\users\\kanno.ryuho\\appdata\\local\\programs\\python\\python310\\lib\\site-packages (from importlib-metadata<8,>=1.4->streamlit) (3.17.0)\n",
            "Requirement already satisfied: pytz>=2020.1 in c:\\users\\kanno.ryuho\\appdata\\local\\programs\\python\\python310\\lib\\site-packages (from pandas<3,>=1.3.0->streamlit) (2024.1)\n",
            "Requirement already satisfied: tzdata>=2022.7 in c:\\users\\kanno.ryuho\\appdata\\local\\programs\\python\\python310\\lib\\site-packages (from pandas<3,>=1.3.0->streamlit) (2023.4)\n",
            "Requirement already satisfied: six>=1.5 in c:\\users\\kanno.ryuho\\appdata\\local\\programs\\python\\python310\\lib\\site-packages (from python-dateutil<3,>=2.7.3->streamlit) (1.16.0)\n",
            "Requirement already satisfied: charset-normalizer<4,>=2 in c:\\users\\kanno.ryuho\\appdata\\local\\programs\\python\\python310\\lib\\site-packages (from requests<3,>=2.27->streamlit) (3.3.2)\n",
            "Requirement already satisfied: idna<4,>=2.5 in c:\\users\\kanno.ryuho\\appdata\\local\\programs\\python\\python310\\lib\\site-packages (from requests<3,>=2.27->streamlit) (3.6)\n",
            "Requirement already satisfied: certifi>=2017.4.17 in c:\\users\\kanno.ryuho\\appdata\\local\\programs\\python\\python310\\lib\\site-packages (from requests<3,>=2.27->streamlit) (2024.2.2)\n",
            "Requirement already satisfied: urllib3<3,>=1.21.1 in c:\\users\\kanno.ryuho\\appdata\\local\\programs\\python\\python310\\lib\\site-packages (from requests<3,>=2.27->streamlit) (2.2.0)\n",
            "Requirement already satisfied: pygments<3.0.0,>=2.13.0 in c:\\users\\kanno.ryuho\\appdata\\local\\programs\\python\\python310\\lib\\site-packages (from rich<14,>=10.14.0->streamlit) (2.17.2)\n",
            "Requirement already satisfied: markdown-it-py>=2.2.0 in c:\\users\\kanno.ryuho\\appdata\\local\\programs\\python\\python310\\lib\\site-packages (from rich<14,>=10.14.0->streamlit) (3.0.0)\n",
            "Requirement already satisfied: smmap<6,>=3.0.1 in c:\\users\\kanno.ryuho\\appdata\\local\\programs\\python\\python310\\lib\\site-packages (from gitdb<5,>=4.0.1->gitpython!=3.1.19,<4,>=3.0.7->streamlit) (5.0.1)\n",
            "Requirement already satisfied: MarkupSafe>=2.0 in c:\\users\\kanno.ryuho\\appdata\\local\\programs\\python\\python310\\lib\\site-packages (from jinja2->altair<6,>=4.0->streamlit) (2.1.5)\n",
            "Requirement already satisfied: attrs>=22.2.0 in c:\\users\\kanno.ryuho\\appdata\\local\\programs\\python\\python310\\lib\\site-packages (from jsonschema>=3.0->altair<6,>=4.0->streamlit) (23.2.0)\n",
            "Requirement already satisfied: rpds-py>=0.7.1 in c:\\users\\kanno.ryuho\\appdata\\local\\programs\\python\\python310\\lib\\site-packages (from jsonschema>=3.0->altair<6,>=4.0->streamlit) (0.17.1)\n",
            "Requirement already satisfied: referencing>=0.28.4 in c:\\users\\kanno.ryuho\\appdata\\local\\programs\\python\\python310\\lib\\site-packages (from jsonschema>=3.0->altair<6,>=4.0->streamlit) (0.33.0)\n",
            "Requirement already satisfied: jsonschema-specifications>=2023.03.6 in c:\\users\\kanno.ryuho\\appdata\\local\\programs\\python\\python310\\lib\\site-packages (from jsonschema>=3.0->altair<6,>=4.0->streamlit) (2023.12.1)\n",
            "Requirement already satisfied: mdurl~=0.1 in c:\\users\\kanno.ryuho\\appdata\\local\\programs\\python\\python310\\lib\\site-packages (from markdown-it-py>=2.2.0->rich<14,>=10.14.0->streamlit) (0.1.2)\n"
          ]
        },
        {
          "name": "stderr",
          "output_type": "stream",
          "text": [
            "\n",
            "[notice] A new release of pip is available: 23.0.1 -> 24.0\n",
            "[notice] To update, run: C:\\Users\\kanno.ryuho\\AppData\\Local\\Programs\\Python\\Python310\\python.exe -m pip install --upgrade pip\n",
            "ERROR: Could not find a version that satisfies the requirement itertools (from versions: none)\n",
            "ERROR: No matching distribution found for itertools\n",
            "\n",
            "[notice] A new release of pip is available: 23.0.1 -> 24.0\n",
            "[notice] To update, run: C:\\Users\\kanno.ryuho\\AppData\\Local\\Programs\\Python\\Python310\\python.exe -m pip install --upgrade pip\n"
          ]
        },
        {
          "name": "stdout",
          "output_type": "stream",
          "text": [
            "Requirement already satisfied: statsmodels in c:\\users\\kanno.ryuho\\appdata\\local\\programs\\python\\python310\\lib\\site-packages (0.14.1)\n",
            "Requirement already satisfied: numpy<2,>=1.22.3 in c:\\users\\kanno.ryuho\\appdata\\local\\programs\\python\\python310\\lib\\site-packages (from statsmodels) (1.26.4)\n",
            "Requirement already satisfied: pandas!=2.1.0,>=1.0 in c:\\users\\kanno.ryuho\\appdata\\local\\programs\\python\\python310\\lib\\site-packages (from statsmodels) (2.2.0)\n",
            "Requirement already satisfied: packaging>=21.3 in c:\\users\\kanno.ryuho\\appdata\\local\\programs\\python\\python310\\lib\\site-packages (from statsmodels) (23.2)\n",
            "Requirement already satisfied: patsy>=0.5.4 in c:\\users\\kanno.ryuho\\appdata\\local\\programs\\python\\python310\\lib\\site-packages (from statsmodels) (0.5.6)\n",
            "Requirement already satisfied: scipy!=1.9.2,>=1.4 in c:\\users\\kanno.ryuho\\appdata\\local\\programs\\python\\python310\\lib\\site-packages (from statsmodels) (1.12.0)\n",
            "Requirement already satisfied: tzdata>=2022.7 in c:\\users\\kanno.ryuho\\appdata\\local\\programs\\python\\python310\\lib\\site-packages (from pandas!=2.1.0,>=1.0->statsmodels) (2023.4)\n",
            "Requirement already satisfied: python-dateutil>=2.8.2 in c:\\users\\kanno.ryuho\\appdata\\local\\programs\\python\\python310\\lib\\site-packages (from pandas!=2.1.0,>=1.0->statsmodels) (2.8.2)\n",
            "Requirement already satisfied: pytz>=2020.1 in c:\\users\\kanno.ryuho\\appdata\\local\\programs\\python\\python310\\lib\\site-packages (from pandas!=2.1.0,>=1.0->statsmodels) (2024.1)\n",
            "Requirement already satisfied: six in c:\\users\\kanno.ryuho\\appdata\\local\\programs\\python\\python310\\lib\\site-packages (from patsy>=0.5.4->statsmodels) (1.16.0)\n"
          ]
        },
        {
          "name": "stderr",
          "output_type": "stream",
          "text": [
            "\n",
            "[notice] A new release of pip is available: 23.0.1 -> 24.0\n",
            "[notice] To update, run: C:\\Users\\kanno.ryuho\\AppData\\Local\\Programs\\Python\\Python310\\python.exe -m pip install --upgrade pip\n"
          ]
        }
      ],
      "source": [
        "!pip install yfinance\n",
        "!pip install altair\n",
        "!pip install streamlit\n",
        "!pip install itertools\n",
        "!pip install statsmodels"
      ]
    },
    {
      "cell_type": "code",
      "execution_count": 1,
      "metadata": {
        "id": "3hNjnKqq2pbD"
      },
      "outputs": [],
      "source": [
        "import pandas as pd\n",
        "import numpy as np\n",
        "from datetime import datetime, timedelta\n",
        "import matplotlib.pyplot as plt\n",
        "import altair as alt\n",
        "import yfinance as yf\n",
        "import streamlit as st\n",
        "import itertools\n",
        "import statsmodels.api as sm\n",
        "\n",
        "%matplotlib inline"
      ]
    },
    {
      "cell_type": "code",
      "execution_count": 2,
      "metadata": {
        "id": "15--xLEj4UiG"
      },
      "outputs": [],
      "source": [
        "days = 365\n",
        "tickers = {\n",
        "    'Apple': 'AAPL',\n",
        "    'Google': 'GOOG',\n",
        "    'Microsoft': 'MSFT',\n",
        "    'Netflix': 'NFLX',\n",
        "    'Amazon': 'AMZN',\n",
        "    'Meta': 'META',\n",
        "    'Rakuten': '4755.T',\n",
        "    'TOYOTA': '7203.T',\n",
        "    'SONY': '6758.T'\n",
        "}"
      ]
    },
    {
      "cell_type": "code",
      "execution_count": 3,
      "metadata": {
        "colab": {
          "base_uri": "https://localhost:8080/",
          "height": 449
        },
        "id": "wVRGCulP7kYp",
        "outputId": "6f039424-9ab5-4292-ae04-eb780251899e"
      },
      "outputs": [
        {
          "name": "stderr",
          "output_type": "stream",
          "text": [
            "c:\\Users\\kanno.ryuho\\AppData\\Local\\Programs\\Python\\Python310\\lib\\site-packages\\yfinance\\utils.py:775: FutureWarning: The 'unit' keyword in TimedeltaIndex construction is deprecated and will be removed in a future version. Use pd.to_timedelta instead.\n",
            "  df.index += _pd.TimedeltaIndex(dst_error_hours, 'h')\n",
            "[*********************100%%**********************]  1 of 1 completed\n",
            "C:\\Users\\kanno.ryuho\\AppData\\Local\\Temp\\ipykernel_19856\\3394126845.py:24: FutureWarning: 'M' is deprecated and will be removed in a future version, please use 'ME' instead.\n",
            "  df = df.resample(rule = \"M\").mean()\n"
          ]
        },
        {
          "data": {
            "image/png": "[encoded data removed]",
            "text/plain": [
              "<Figure size 640x480 with 1 Axes>"
            ]
          },
          "metadata": {},
          "output_type": "display_data"
        }
      ],
      "source": [
        "## 終値を抽出処理\n",
        "## downloadメソッド使用ver\n",
        "\n",
        "ticker = 'AAPL'\n",
        "df = pd.DataFrame()\n",
        "\n",
        "def get_close_for_predict_with_download(ticker):\n",
        "    df = pd.DataFrame()\n",
        "\n",
        "    current_date = datetime.now()\n",
        "\n",
        "    five_years_ago = current_date - timedelta(days=365 * 5)\n",
        "    five_years_ago_str = five_years_ago.strftime(\"%Y-%m-%d\")\n",
        "\n",
        "    one_week_ago = current_date - timedelta(days=7)\n",
        "    one_week_ago_str = one_week_ago.strftime(\"%Y-%m-%d\")\n",
        "\n",
        "    two_years_later = current_date + timedelta(days=365 * 2)\n",
        "\n",
        "    # df = yf.download(ticker, start=\"2018-01-01\", end=\"2024-2-20\", interval=\"1d\")\n",
        "    df = yf.download(ticker, start=five_years_ago_str, end=one_week_ago_str, interval=\"1d\")\n",
        "\n",
        "    #1ヶ月毎のデータに変更しシンプルにする\n",
        "    df = df.resample(rule = \"M\").mean()\n",
        "\n",
        "    plt.plot(df[\"Close\"])\n",
        "    plt.show()\n",
        "\n",
        "    return df[\"Close\"]\n",
        "\n",
        "df[\"Close\"] = get_close_for_predict_with_download(ticker)"
      ]
    },
    {
      "cell_type": "code",
      "execution_count": 4,
      "metadata": {
        "id": "U49W9jrL25Ap"
      },
      "outputs": [
        {
          "data": {
            "image/png": "[encoded data removed]",
            "text/plain": [
              "<Figure size 900x700 with 2 Axes>"
            ]
          },
          "metadata": {},
          "output_type": "display_data"
        }
      ],
      "source": [
        "## 自己相関・偏自己相関の可視化\n",
        "fig = plt.figure(figsize=(9,7))\n",
        "\n",
        "## 自己相関係数をグラフ化\n",
        "ax1 = fig.add_subplot(211)\n",
        "fig = sm.graphics.tsa.plot_acf(df[\"Close\"], lags=30, ax=ax1)\n",
        "\n",
        "## 偏自己相関係数をグラフ化\n",
        "ax2 = fig.add_subplot(212)\n",
        "fig = sm.graphics.tsa.plot_pacf(df[\"Close\"], lags=30, ax=ax2)\n",
        "\n",
        "plt.show()"
      ]
    },
    {
      "cell_type": "code",
      "execution_count": null,
      "metadata": {
        "id": "ePN39JaC3Wuq"
      },
      "outputs": [],
      "source": [
        "## 季節調整\n",
        "sm.tsa.seasonal_decompose(df[\"Close\"], period=12).plot()\n",
        "plt.show()"
      ]
    },
    {
      "cell_type": "code",
      "execution_count": null,
      "metadata": {
        "id": "FuS3hNyl3AqG"
      },
      "outputs": [],
      "source": [
        "## モデル構築のためのパラメータの決定\n",
        "\n",
        "def selectparameter(DATA,s):\n",
        "    p = d = q = range(0, 2)\n",
        "    pdq = list(itertools.product(p, d, q))\n",
        "    seasonal_pdq = [(x[0], x[1], x[2], s) for x in list(itertools.product(p, d, q))]\n",
        "    parameters = []\n",
        "    BICs = np.array([])\n",
        "    for param in pdq:\n",
        "        for param_seasonal in seasonal_pdq:\n",
        "            try:\n",
        "                mod = sm.tsa.statespace.SARIMAX(DATA,\n",
        "                                                order=param,\n",
        "                                                seasonal_order=param_seasonal)\n",
        "                results = mod.fit()\n",
        "                parameters.append([param, param_seasonal, results.bic])\n",
        "                BICs = np.append(BICs, results.bic)\n",
        "            except:\n",
        "                continue\n",
        "    return parameters[np.argmin(BICs)]\n",
        "\n",
        "selectparameter(df[\"Close\"],12)\n"
      ]
    },
    {
      "cell_type": "code",
      "execution_count": 10,
      "metadata": {
        "colab": {
          "base_uri": "https://localhost:8080/"
        },
        "id": "gJBIFGPs3aFf",
        "outputId": "afba927b-b148-4f5a-dc97-7372d1e03219"
      },
      "outputs": [
        {
          "name": "stdout",
          "output_type": "stream",
          "text": [
            "353.8929343955401\n"
          ]
        },
        {
          "name": "stderr",
          "output_type": "stream",
          "text": [
            "/usr/local/lib/python3.10/dist-packages/statsmodels/tsa/statespace/sarimax.py:1009: UserWarning: Non-invertible starting seasonal moving average Using zeros as starting parameters.\n",
            "  warn('Non-invertible starting seasonal moving average'\n"
          ]
        }
      ],
      "source": [
        "#モデルの構築\n",
        "SARIMA_MSFT = sm.tsa.statespace.SARIMAX(df[\"Close\"],order=(0, 1, 0),seasonal_order=(0, 1, 1, 12)).fit()\n",
        "\n",
        "print(SARIMA_MSFT.bic)\n"
      ]
    },
    {
      "cell_type": "code",
      "execution_count": null,
      "metadata": {
        "id": "xsUS0feF3yn8"
      },
      "outputs": [],
      "source": [
        "#predに予測データを代入\n",
        "pred = SARIMA_MSFT.predict('2021-01', '2025-12')\n",
        "\n",
        "print(pred)\n",
        "\n",
        "#predと元の時系列データを可視化\n",
        "#予測データは赤色で表示\n",
        "plt.plot(df[\"Close\"])\n",
        "plt.plot(pred, \"r\")\n",
        "plt.show()\n"
      ]
    },
    {
      "cell_type": "code",
      "execution_count": 27,
      "metadata": {
        "colab": {
          "base_uri": "https://localhost:8080/"
        },
        "id": "jNM_kYDyGusb",
        "outputId": "846a37b9-7d1f-4254-f57e-30c99e55049d"
      },
      "outputs": [
        {
          "name": "stderr",
          "output_type": "stream",
          "text": [
            "\r[*********************100%%**********************]  1 of 1 completed\n",
            "/usr/local/lib/python3.10/dist-packages/statsmodels/tsa/statespace/sarimax.py:1009: UserWarning: Non-invertible starting seasonal moving average Using zeros as starting parameters.\n",
            "  warn('Non-invertible starting seasonal moving average'\n"
          ]
        },
        {
          "data": {
            "text/plain": [
              "(                Date             Name  Stock Prices(USD)\n",
              " 0      31 March 2019  prediction_line           0.000000\n",
              " 1      30 April 2019  prediction_line          46.150278\n",
              " 2        31 May 2019  prediction_line          50.129048\n",
              " 3       30 June 2019  prediction_line          47.818409\n",
              " 4       31 July 2019  prediction_line          48.242250\n",
              " ..               ...              ...                ...\n",
              " 80  30 November 2025  prediction_line         229.675464\n",
              " 81  31 December 2025  prediction_line         236.420372\n",
              " 82   31 January 2026  prediction_line         236.864466\n",
              " 83  28 February 2026  prediction_line         239.137224\n",
              " 84     31 March 2026  prediction_line         233.540647\n",
              " \n",
              " [85 rows x 3 columns],\n",
              "          Date   Name  Stock Prices(USD)\n",
              " 0  2019-03-31  Close          46.150278\n",
              " 1  2019-04-30  Close          50.129048\n",
              " 2  2019-05-31  Close          47.818409\n",
              " 3  2019-06-30  Close          48.242250\n",
              " 4  2019-07-31  Close          51.304091\n",
              " 5  2019-08-31  Close          51.239432\n",
              " 6  2019-09-30  Close          54.498750\n",
              " 7  2019-10-31  Close          58.821630\n",
              " 8  2019-11-30  Close          65.630126\n",
              " 9  2019-12-31  Close          69.131428\n",
              " 10 2020-01-31  Close          77.979048\n",
              " 11 2020-02-29  Close          77.817631\n",
              " 12 2020-03-31  Close          65.611023\n",
              " 13 2020-04-30  Close          68.096547\n",
              " 14 2020-05-31  Close          77.496376\n",
              " 15 2020-06-30  Close          86.451590\n",
              " 16 2020-07-31  Close          95.566250\n",
              " 17 2020-08-31  Close         117.299762\n",
              " 18 2020-09-30  Close         115.125237\n",
              " 19 2020-10-31  Close         116.413182\n",
              " 20 2020-11-30  Close         116.825999\n",
              " 21 2020-12-31  Close         127.290455\n",
              " 22 2021-01-31  Close         133.036842\n",
              " 23 2021-02-28  Close         131.531579\n",
              " 24 2021-03-31  Close         121.871304\n",
              " 25 2021-04-30  Close         131.812858\n",
              " 26 2021-05-31  Close         126.784000\n",
              " 27 2021-06-30  Close         129.958636\n",
              " 28 2021-07-31  Close         145.139524\n",
              " 29 2021-08-31  Close         148.177727\n",
              " 30 2021-09-30  Close         148.306190\n",
              " 31 2021-10-31  Close         145.563809\n",
              " 32 2021-11-30  Close         154.255716\n",
              " 33 2021-12-31  Close         173.552727\n",
              " 34 2022-01-31  Close         169.861500\n",
              " 35 2022-02-28  Close         169.830001\n",
              " 36 2022-03-31  Close         165.310435\n",
              " 37 2022-04-30  Close         166.820999\n",
              " 38 2022-05-31  Close         148.430477\n",
              " 39 2022-06-30  Close         139.798573\n",
              " 40 2022-07-31  Close         149.670499\n",
              " 41 2022-08-31  Close         166.885218\n",
              " 42 2022-09-30  Close         153.002856\n",
              " 43 2022-10-31  Close         145.013333\n",
              " 44 2022-11-30  Close         145.843331\n",
              " 45 2022-12-31  Close         137.876666\n",
              " 46 2023-01-31  Close         135.778999\n",
              " 47 2023-02-28  Close         150.968421\n",
              " 48 2023-03-31  Close         154.964782\n",
              " 49 2023-04-30  Close         165.045790\n",
              " 50 2023-05-31  Close         172.622728\n",
              " 51 2023-06-30  Close         184.283333\n",
              " 52 2023-07-31  Close         192.411501\n",
              " 53 2023-08-31  Close         181.083913\n",
              " 54 2023-09-30  Close         177.002501\n",
              " 55 2023-10-31  Close         174.668638\n",
              " 56 2023-11-30  Close         185.879523\n",
              " 57 2023-12-31  Close         194.308501\n",
              " 58 2024-01-31  Close         187.724284\n",
              " 59 2024-02-29  Close         185.596875)"
            ]
          },
          "execution_count": 27,
          "metadata": {},
          "output_type": "execute_result"
        }
      ],
      "source": [
        "ticker = tickers['Apple']\n",
        "\n",
        "def get_predict(ticker):\n",
        "    df = pd.DataFrame()\n",
        "\n",
        "    current_date = datetime.now()\n",
        "\n",
        "    five_years_ago = current_date - timedelta(days=365 * 5)\n",
        "    five_years_ago_str = five_years_ago.strftime(\"%Y-%m-%d\")\n",
        "\n",
        "    one_week_ago = current_date - timedelta(days=7)\n",
        "    one_week_ago_str = one_week_ago.strftime(\"%Y-%m-%d\")\n",
        "\n",
        "    two_years_later = current_date + timedelta(days=365 * 2)\n",
        "\n",
        "    df = yf.download(ticker, start=five_years_ago_str, end=one_week_ago_str, interval=\"1d\")\n",
        "\n",
        "    #1ヶ月毎のデータに変更しシンプルにする\n",
        "    df = df.resample(rule = \"M\").mean()\n",
        "\n",
        "    # モデルの構築\n",
        "    SARIMA_MSFT = sm.tsa.statespace.SARIMAX(df[\"Close\"],order=(0, 1, 0),seasonal_order=(0, 1, 1, 12)).fit()\n",
        "\n",
        "    # predに予測データを代入\n",
        "    pred = SARIMA_MSFT.predict(five_years_ago.strftime(\"%Y-%m\"), two_years_later.strftime(\"%Y-%m\"))\n",
        "\n",
        "    return pred, df[\"Close\"]\n",
        "\n",
        "data_predict, data_close = get_predict('AAPL')\n",
        "\n",
        "data_predict = data_predict.T.reset_index()\n",
        "data_close = data_close.T.reset_index()\n",
        "\n",
        "data_predict = data_predict.rename({'predicted_mean': 'prediction_line'}, axis=1)\n",
        "data_predict = data_predict.rename({'index': 'Date'}, axis=1)\n",
        "\n",
        "data_predict = pd.melt(data_predict, id_vars=['Date']).rename(\n",
        "  columns={'value': 'Stock Prices(USD)', 'variable': 'Name'}\n",
        ")\n",
        "\n",
        "data_close = pd.melt(data_close, id_vars=['Date']).rename(\n",
        "  columns={'value': 'Stock Prices(USD)', 'variable': 'Name'}\n",
        ")\n",
        "\n",
        "data_predict[\"Date\"] = pd.to_datetime(data_predict['Date'])\n",
        "data_predict[\"Date\"] = data_predict[\"Date\"].dt.strftime('%d %B %Y')\n",
        "\n",
        "data_predict, data_close\n",
        "# # plt.plot(df[\"Close\"])\n",
        "# # plt.plot(data_predict, \"r\")\n",
        "# # plt.show()\n"
      ]
    },
    {
      "cell_type": "code",
      "execution_count": null,
      "metadata": {
        "id": "hHen9eW8nsfJ"
      },
      "outputs": [],
      "source": []
    }
  ],
  "metadata": {
    "colab": {
      "provenance": []
    },
    "kernelspec": {
      "display_name": "Python 3",
      "name": "python3"
    },
    "language_info": {
      "codemirror_mode": {
        "name": "ipython",
        "version": 3
      },
      "file_extension": ".py",
      "mimetype": "text/x-python",
      "name": "python",
      "nbconvert_exporter": "python",
      "pygments_lexer": "ipython3",
      "version": "3.10.11"
    }
  },
  "nbformat": 4,
  "nbformat_minor": 0
}
